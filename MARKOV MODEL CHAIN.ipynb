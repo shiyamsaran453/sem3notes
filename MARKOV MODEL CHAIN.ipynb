{
 "cells": [
  {
   "cell_type": "markdown",
   "id": "5827d72b",
   "metadata": {},
   "source": [
    "in our problems we have our poor prisoner who's stuck in  a prison as the story says this prison is completely isolated from the rest of the world and one cannot even see the sky in such scenario our prisoners has been in the prison for 2 years now the funny thing is that there is an incharge who takes care of all the prisoners so the incharge wears a hat if its sunny and wears a raincoat if its rainy since the prisoners has no acces to open spaceshe only deduce the weather by checking what the incharge came in everyday is it a rain coat or a hat"
   ]
  },
  {
   "cell_type": "code",
   "execution_count": 102,
   "id": "3bb01859",
   "metadata": {},
   "outputs": [],
   "source": [
    "from protopunica import *\n",
    "import numpy\n",
    "import pandas as saran"
   ]
  },
  {
   "cell_type": "code",
   "execution_count": 88,
   "id": "25a232d6",
   "metadata": {},
   "outputs": [],
   "source": [
    "sunny=DiscreteDistribution({\"raincoat\":0.1,\"hat\":0.9})\n",
    "rainy=DiscreteDistribution({\"raincoat\":0.7,\"hat\":0.3})\n"
   ]
  },
  {
   "cell_type": "code",
   "execution_count": 89,
   "id": "831e04b4",
   "metadata": {},
   "outputs": [],
   "source": [
    "states=[sunny,rainy]"
   ]
  },
  {
   "cell_type": "code",
   "execution_count": 90,
   "id": "f1ab043c",
   "metadata": {},
   "outputs": [],
   "source": [
    "transition_model=numpy.array([[0.3,0.7],[0.4,0.6]])"
   ]
  },
  {
   "cell_type": "code",
   "execution_count": 91,
   "id": "8a97bf7a",
   "metadata": {},
   "outputs": [],
   "source": [
    "initial_state=numpy.array([0.3,0.7])"
   ]
  },
  {
   "cell_type": "code",
   "execution_count": 92,
   "id": "e9668dfe",
   "metadata": {},
   "outputs": [],
   "source": [
    "model=HiddenMarkovModel.from_matrix(transition_model,states,initial_state,state_names=[\"sunny\",\"rainy\"])"
   ]
  },
  {
   "cell_type": "code",
   "execution_count": 93,
   "id": "b2ff4e83",
   "metadata": {},
   "outputs": [],
   "source": [
    "model.bake()"
   ]
  },
  {
   "cell_type": "code",
   "execution_count": 94,
   "id": "afcd51a8",
   "metadata": {},
   "outputs": [],
   "source": [
    "observations=[\"hat\",\"hat\",\"raincoat\",\"hat\",\"raincoat\"]"
   ]
  },
  {
   "cell_type": "code",
   "execution_count": 95,
   "id": "1520bb6b",
   "metadata": {},
   "outputs": [],
   "source": [
    "predictions=model.predict(observations)"
   ]
  },
  {
   "cell_type": "code",
   "execution_count": 96,
   "id": "c7deb910",
   "metadata": {},
   "outputs": [
    {
     "data": {
      "text/plain": [
       "[1, 1, 0, 1, 0]"
      ]
     },
     "execution_count": 96,
     "metadata": {},
     "output_type": "execute_result"
    }
   ],
   "source": [
    "predictions"
   ]
  },
  {
   "cell_type": "code",
   "execution_count": 97,
   "id": "4fcab53e",
   "metadata": {},
   "outputs": [
    {
     "data": {
      "text/plain": [
       "{\n",
       "    \"class\" : \"HiddenMarkovModel\",\n",
       "    \"name\" : \"None\",\n",
       "    \"start\" : {\n",
       "        \"class\" : \"State\",\n",
       "        \"distribution\" : null,\n",
       "        \"name\" : \"None-start\",\n",
       "        \"weight\" : 1.0\n",
       "    },\n",
       "    \"end\" : {\n",
       "        \"class\" : \"State\",\n",
       "        \"distribution\" : null,\n",
       "        \"name\" : \"None-end\",\n",
       "        \"weight\" : 1.0\n",
       "    },\n",
       "    \"states\" : [\n",
       "        {\n",
       "            \"class\" : \"State\",\n",
       "            \"distribution\" : {\n",
       "                \"class\" : \"Distribution\",\n",
       "                \"dtype\" : \"str\",\n",
       "                \"name\" : \"DiscreteDistribution\",\n",
       "                \"parameters\" : [\n",
       "                    {\n",
       "                        \"raincoat\" : 0.7,\n",
       "                        \"hat\" : 0.3\n",
       "                    }\n",
       "                ],\n",
       "                \"frozen\" : false\n",
       "            },\n",
       "            \"name\" : \"rainy\",\n",
       "            \"weight\" : 1.0\n",
       "        },\n",
       "        {\n",
       "            \"class\" : \"State\",\n",
       "            \"distribution\" : {\n",
       "                \"class\" : \"Distribution\",\n",
       "                \"dtype\" : \"str\",\n",
       "                \"name\" : \"DiscreteDistribution\",\n",
       "                \"parameters\" : [\n",
       "                    {\n",
       "                        \"raincoat\" : 0.1,\n",
       "                        \"hat\" : 0.9\n",
       "                    }\n",
       "                ],\n",
       "                \"frozen\" : false\n",
       "            },\n",
       "            \"name\" : \"sunny\",\n",
       "            \"weight\" : 1.0\n",
       "        },\n",
       "        {\n",
       "            \"class\" : \"State\",\n",
       "            \"distribution\" : null,\n",
       "            \"name\" : \"None-start\",\n",
       "            \"weight\" : 1.0\n",
       "        },\n",
       "        {\n",
       "            \"class\" : \"State\",\n",
       "            \"distribution\" : null,\n",
       "            \"name\" : \"None-end\",\n",
       "            \"weight\" : 1.0\n",
       "        }\n",
       "    ],\n",
       "    \"end_index\" : 3,\n",
       "    \"start_index\" : 2,\n",
       "    \"silent_index\" : 2,\n",
       "    \"edges\" : [\n",
       "        [\n",
       "            2,\n",
       "            1,\n",
       "            0.3,\n",
       "            0.3,\n",
       "            null\n",
       "        ],\n",
       "        [\n",
       "            2,\n",
       "            0,\n",
       "            0.7,\n",
       "            0.7,\n",
       "            null\n",
       "        ],\n",
       "        [\n",
       "            1,\n",
       "            1,\n",
       "            0.3,\n",
       "            0.3,\n",
       "            null\n",
       "        ],\n",
       "        [\n",
       "            1,\n",
       "            0,\n",
       "            0.7,\n",
       "            0.7,\n",
       "            null\n",
       "        ],\n",
       "        [\n",
       "            0,\n",
       "            1,\n",
       "            0.4,\n",
       "            0.4,\n",
       "            null\n",
       "        ],\n",
       "        [\n",
       "            0,\n",
       "            0,\n",
       "            0.6,\n",
       "            0.6,\n",
       "            null\n",
       "        ]\n",
       "    ],\n",
       "    \"distribution ties\" : []\n",
       "}"
      ]
     },
     "execution_count": 97,
     "metadata": {},
     "output_type": "execute_result"
    }
   ],
   "source": [
    "model"
   ]
  },
  {
   "cell_type": "code",
   "execution_count": 98,
   "id": "fe8b61d1",
   "metadata": {},
   "outputs": [
    {
     "name": "stdout",
     "output_type": "stream",
     "text": [
      "sunny\n",
      "sunny\n",
      "rainy\n",
      "sunny\n",
      "rainy\n"
     ]
    }
   ],
   "source": [
    "for prediction in predictions:\n",
    "    print(model.states[prediction].name)"
   ]
  },
  {
   "cell_type": "code",
   "execution_count": 99,
   "id": "5c3f9a4e",
   "metadata": {},
   "outputs": [],
   "source": [
    "predicted_probabilities=model.predict_proba(observations)"
   ]
  },
  {
   "cell_type": "code",
   "execution_count": 103,
   "id": "0d60937f",
   "metadata": {},
   "outputs": [],
   "source": [
    "most_likely_weather=saran.DataFrame(predicted_probabilities,columns=[\"rainy\",\"sunny\"])"
   ]
  },
  {
   "cell_type": "code",
   "execution_count": 104,
   "id": "081b92a1",
   "metadata": {},
   "outputs": [
    {
     "data": {
      "text/html": [
       "<div>\n",
       "<style scoped>\n",
       "    .dataframe tbody tr th:only-of-type {\n",
       "        vertical-align: middle;\n",
       "    }\n",
       "\n",
       "    .dataframe tbody tr th {\n",
       "        vertical-align: top;\n",
       "    }\n",
       "\n",
       "    .dataframe thead th {\n",
       "        text-align: right;\n",
       "    }\n",
       "</style>\n",
       "<table border=\"1\" class=\"dataframe\">\n",
       "  <thead>\n",
       "    <tr style=\"text-align: right;\">\n",
       "      <th></th>\n",
       "      <th>rainy</th>\n",
       "      <th>sunny</th>\n",
       "    </tr>\n",
       "  </thead>\n",
       "  <tbody>\n",
       "    <tr>\n",
       "      <th>0</th>\n",
       "      <td>0.469889</td>\n",
       "      <td>0.530111</td>\n",
       "    </tr>\n",
       "    <tr>\n",
       "      <th>1</th>\n",
       "      <td>0.359348</td>\n",
       "      <td>0.640652</td>\n",
       "    </tr>\n",
       "    <tr>\n",
       "      <th>2</th>\n",
       "      <td>0.939603</td>\n",
       "      <td>0.060397</td>\n",
       "    </tr>\n",
       "    <tr>\n",
       "      <th>3</th>\n",
       "      <td>0.312762</td>\n",
       "      <td>0.687238</td>\n",
       "    </tr>\n",
       "    <tr>\n",
       "      <th>4</th>\n",
       "      <td>0.933155</td>\n",
       "      <td>0.066845</td>\n",
       "    </tr>\n",
       "  </tbody>\n",
       "</table>\n",
       "</div>"
      ],
      "text/plain": [
       "      rainy     sunny\n",
       "0  0.469889  0.530111\n",
       "1  0.359348  0.640652\n",
       "2  0.939603  0.060397\n",
       "3  0.312762  0.687238\n",
       "4  0.933155  0.066845"
      ]
     },
     "execution_count": 104,
     "metadata": {},
     "output_type": "execute_result"
    }
   ],
   "source": [
    "most_likely_weather"
   ]
  },
  {
   "cell_type": "code",
   "execution_count": null,
   "id": "bdd528fc",
   "metadata": {},
   "outputs": [],
   "source": []
  }
 ],
 "metadata": {
  "kernelspec": {
   "display_name": "Python 3 (ipykernel)",
   "language": "python",
   "name": "python3"
  },
  "language_info": {
   "codemirror_mode": {
    "name": "ipython",
    "version": 3
   },
   "file_extension": ".py",
   "mimetype": "text/x-python",
   "name": "python",
   "nbconvert_exporter": "python",
   "pygments_lexer": "ipython3",
   "version": "3.11.5"
  }
 },
 "nbformat": 4,
 "nbformat_minor": 5
}
