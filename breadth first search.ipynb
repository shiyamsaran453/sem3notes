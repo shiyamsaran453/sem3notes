{
 "cells": [
  {
   "cell_type": "code",
   "execution_count": 16,
   "id": "942d368e",
   "metadata": {},
   "outputs": [],
   "source": [
    "graph={'HOUSE':['ANNA NAGAR','BURMA','CONVENT'],\n",
    "      'ANNA NAGAR':['BURMA'],\n",
    "      'BURMA':['CONVENT'],\n",
    "       'CONVENT':['OLD BUSSTAND'],\n",
    "       'OLD BUSTAND':['CONVENT']}\n",
    "      \n"
   ]
  },
  {
   "cell_type": "code",
   "execution_count": 17,
   "id": "31c17d06",
   "metadata": {},
   "outputs": [],
   "source": [
    "from collections import deque\n",
    "def BFS(graph,start,goal):\n",
    "    visited=[]\n",
    "    queue=deque([start])\n",
    "    while queue:\n",
    "        node=queue.popleft()\n",
    "        if node not in visited:\n",
    "            visited.append(node)\n",
    "            print(\"i have visited:\",node)\n",
    "            neighbournode=graph[node]\n",
    "            if node==goal:\n",
    "                print(\"i have reached the goal ,the path i travelled is\",visited)\n",
    "            for neighbours in neighbournode:\n",
    "                    queue.append(neighbours)\n",
    "                "
   ]
  },
  {
   "cell_type": "code",
   "execution_count": 18,
   "id": "743ef36f",
   "metadata": {},
   "outputs": [
    {
     "name": "stdout",
     "output_type": "stream",
     "text": [
      "i have visited: HOUSE\n",
      "i have visited: ANNA NAGAR\n",
      "i have visited: BURMA\n",
      "i have visited: CONVENT\n",
      "i have visited: OLD BUSSTAND\n"
     ]
    },
    {
     "ename": "KeyError",
     "evalue": "'OLD BUSSTAND'",
     "output_type": "error",
     "traceback": [
      "\u001b[1;31m---------------------------------------------------------------------------\u001b[0m",
      "\u001b[1;31mKeyError\u001b[0m                                  Traceback (most recent call last)",
      "Cell \u001b[1;32mIn[18], line 1\u001b[0m\n\u001b[1;32m----> 1\u001b[0m BFS(graph,\u001b[38;5;124m'\u001b[39m\u001b[38;5;124mHOUSE\u001b[39m\u001b[38;5;124m'\u001b[39m,\u001b[38;5;124m'\u001b[39m\u001b[38;5;124mOLD BUSSTAND\u001b[39m\u001b[38;5;124m'\u001b[39m)\n",
      "Cell \u001b[1;32mIn[17], line 10\u001b[0m, in \u001b[0;36mBFS\u001b[1;34m(graph, start, goal)\u001b[0m\n\u001b[0;32m      8\u001b[0m visited\u001b[38;5;241m.\u001b[39mappend(node)\n\u001b[0;32m      9\u001b[0m \u001b[38;5;28mprint\u001b[39m(\u001b[38;5;124m\"\u001b[39m\u001b[38;5;124mi have visited:\u001b[39m\u001b[38;5;124m\"\u001b[39m,node)\n\u001b[1;32m---> 10\u001b[0m neighbournode\u001b[38;5;241m=\u001b[39mgraph[node]\n\u001b[0;32m     11\u001b[0m \u001b[38;5;28;01mif\u001b[39;00m node\u001b[38;5;241m==\u001b[39mgoal:\n\u001b[0;32m     12\u001b[0m     \u001b[38;5;28mprint\u001b[39m(\u001b[38;5;124m\"\u001b[39m\u001b[38;5;124mi have reached the goal ,the path i travelled is\u001b[39m\u001b[38;5;124m\"\u001b[39m,visited)\n",
      "\u001b[1;31mKeyError\u001b[0m: 'OLD BUSSTAND'"
     ]
    }
   ],
   "source": [
    "BFS(graph,'HOUSE','OLD BUSSTAND')\n",
    "\n"
   ]
  },
  {
   "cell_type": "code",
   "execution_count": null,
   "id": "8f295fd9",
   "metadata": {},
   "outputs": [],
   "source": []
  }
 ],
 "metadata": {
  "kernelspec": {
   "display_name": "Python 3 (ipykernel)",
   "language": "python",
   "name": "python3"
  },
  "language_info": {
   "codemirror_mode": {
    "name": "ipython",
    "version": 3
   },
   "file_extension": ".py",
   "mimetype": "text/x-python",
   "name": "python",
   "nbconvert_exporter": "python",
   "pygments_lexer": "ipython3",
   "version": "3.11.5"
  }
 },
 "nbformat": 4,
 "nbformat_minor": 5
}
