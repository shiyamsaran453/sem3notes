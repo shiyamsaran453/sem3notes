{
 "cells": [
  {
   "cell_type": "code",
   "execution_count": 30,
   "id": "28acb4c5",
   "metadata": {},
   "outputs": [
    {
     "name": "stdout",
     "output_type": "stream",
     "text": [
      "name :saran\n",
      "enter your age :18\n",
      "my name is saran i am from thanjavur \n",
      " i am studing in pmist\n",
      " and my age is 18 \n"
     ]
    }
   ],
   "source": [
    "#.format print function:\n",
    "s=input(\"name :\")\n",
    "b=int(input(\"enter your age :\"))\n",
    "print(\"my name is {} i am from {th} \\n i am studing in {c}\\n and my age is {} \".format(s,b,th=\"thanjavur\",c=\"pmist\"))\n"
   ]
  },
  {
   "cell_type": "code",
   "execution_count": 35,
   "id": "519dc19b",
   "metadata": {},
   "outputs": [
    {
     "name": "stdout",
     "output_type": "stream",
     "text": [
      "my name is sachin\n",
      " i am from thanjavur\n"
     ]
    }
   ],
   "source": [
    "# f print\n",
    "s1=\"sachin\"\n",
    "print(f\"my name is {s1}\\n i am from {'thanjavur'}\")#f print and .format are same but key word is different\n"
   ]
  },
  {
   "cell_type": "code",
   "execution_count": 43,
   "id": "a215426c",
   "metadata": {},
   "outputs": [
    {
     "name": "stdout",
     "output_type": "stream",
     "text": [
      "sell\"sell\"\n",
      "sea shore\"sea shore\"\n",
      "she \"sell\" sea shell in \"sea shore\"\n",
      "\n",
      "\n"
     ]
    }
   ],
   "source": [
    "# task 1\n",
    "s=input(\"sell\")\n",
    "d=input(\"sea shore\")\n",
    "print(\"she {} sea shell in {}\\n\\n\".format(s,d))\n"
   ]
  },
  {
   "cell_type": "code",
   "execution_count": null,
   "id": "c8c741df",
   "metadata": {},
   "outputs": [],
   "source": []
  }
 ],
 "metadata": {
  "kernelspec": {
   "display_name": "Python 3 (ipykernel)",
   "language": "python",
   "name": "python3"
  },
  "language_info": {
   "codemirror_mode": {
    "name": "ipython",
    "version": 3
   },
   "file_extension": ".py",
   "mimetype": "text/x-python",
   "name": "python",
   "nbconvert_exporter": "python",
   "pygments_lexer": "ipython3",
   "version": "3.10.12"
  }
 },
 "nbformat": 4,
 "nbformat_minor": 5
}
