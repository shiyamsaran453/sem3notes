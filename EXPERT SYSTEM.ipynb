{
 "cells": [
  {
   "cell_type": "code",
   "execution_count": 1,
   "id": "dc272610",
   "metadata": {},
   "outputs": [],
   "source": [
    "import time"
   ]
  },
  {
   "cell_type": "code",
   "execution_count": 4,
   "id": "d8d676b8",
   "metadata": {},
   "outputs": [
    {
     "name": "stdout",
     "output_type": "stream",
     "text": [
      " \n",
      " welcome to nitro assistant\n",
      "\n",
      " do yo want to chat with nitro assistant type yes or noyes\n",
      "what is the problem you face\n",
      " 1.dealing any  cpu throttle issue\n",
      " 2.having any problems with nitro sense\n",
      " 3.having  fan issues \n",
      "enter the s.no of problems listed above2\n",
      "first you have to delete nitro sense software and reinstall the drivers from acer website\n"
     ]
    }
   ],
   "source": [
    "print(\" \\n welcome to nitro assistant\")\n",
    "a=input(\"\\n do yo want to chat with nitro assistant type yes or no\")\n",
    "if a==\"yes\":\n",
    "        print(\"\"\"what is the problem you face\\n 1.dealing any  cpu throttle issue\\n 2.having any problems with nitro sense\\n 3.having  fan issues \"\"\")\n",
    "        b=int(input(\"enter the s.no of problems listed above\"))\n",
    "        if b==1:\n",
    "            print(\"\\n first you have to buy a good thermal paste and apply it to your laptop\\n this will reduce heat so cpu doesnot throttle again\")\n",
    "        elif b==2:\n",
    "            print(\"first you have to delete nitro sense software and reinstall the drivers from acer website\")\n",
    "        elif b==3:\n",
    "            print(\"first you have to set auto fan in nitro sense and again it does not work clean your lap fan in your nearby acer service center \")\n",
    "        else:\n",
    "            print(\"enter correct s.no  \")   \n",
    "else:\n",
    "    print(\"thank you\")"
   ]
  },
  {
   "cell_type": "code",
   "execution_count": 28,
   "id": "c0edc31f",
   "metadata": {},
   "outputs": [
    {
     "name": "stdout",
     "output_type": "stream",
     "text": [
      "welcome to nitro assistant\n",
      " do yo want to chat with nitro assistant type yes or no\n",
      "yes\n",
      "what are the problems you face \n",
      "1.display issues \n",
      "2.heating issues \n",
      "3.nitro sense software issues \n",
      "4.key board issues\n",
      "\n",
      "enter the correct s.no3\n",
      "please select the issues you experience listed below \n",
      "1.it does not work properly\n",
      "2.having any bug\n",
      "enter the s.no of issues listed above2\n",
      "please update current version\n"
     ]
    }
   ],
   "source": [
    "print(\"welcome to nitro assistant\")\n",
    "a=input(\" do yo want to chat with nitro assistant type yes or no\\n\")\n",
    "if a==\"yes\":\n",
    "    print(\"what are the problems you face \\n1.display issues \\n2.heating issues \\n3.nitro sense software issues \\n4.key board issues\" )\n",
    "    b=int(input(\"\\nenter the correct s.no\"))\n",
    "    if b==2:\n",
    "            print(\"\\n 1.first you have to buy a good thermal paste and apply it to your laptop\\n this will reduce heat so cpu doesnot throttle again\")\n",
    "            print(\"\\n 2.you have to set auto fan speed in nitro sense and again it does not work clean your lap fan in your nearby acer service center \")\n",
    "    elif b==1:\n",
    "        print(\"please select the issues you experience listed below \\n1.screen bleeding \\n2.green line issue\")\n",
    "        dis=int(input(\"enter the s.no of issues listed above\"))\n",
    "        if dis==1:\n",
    "            print(\"screen bleeding is comman in all laptops dont worry about that this is because of overhead that affects display \")\n",
    "        elif dis==2:\n",
    "            print(\"green line issue is basiclly occurs from following \\n1.software issues --this is repair by another software update by the company\\n2.dead pixels--these kinds of issue are repaired by acer service center\")\n",
    "        else:\n",
    "            print(\"enter corrct sno\")\n",
    "    \n",
    "    elif b==3:\n",
    "        print(\"please select the issues you experience listed below \\n1.it does not work properly\\n2.having any bug\")\n",
    "        ni=int(input(\"enter the s.no of issues listed above\")) \n",
    "        if ni==1:\n",
    "            print(\"first you have to delete nitro sense software and reinstall the drivers from acer website\")\n",
    "        elif ni==2:\n",
    "            print(\"please update current version\")\n",
    "        else:\n",
    "            print(\"enter corrct sno\")\n",
    "    elif b==4:\n",
    "        print(\"please select the issues you experience listed below \\n1.keyboard does not work properly\\n2.rgb backlight issue\")\n",
    "        ke=int(input(\"enter the s.no of issues listed above\"))   \n",
    "        if ke==1:\n",
    "            print(\"replace the keyboard in acer service center if you have the warrenty\")\n",
    "        elif ke==2:\n",
    "            print(\"delete and reinstall rgb drivers from website\")\n",
    "        else:\n",
    "             print(\"enter corrct sno\")\n",
    "            \n",
    "                 \n",
    "    else:\n",
    "        print(\"enter correct s.no\")        \n",
    "                 \n",
    "elif a==\"no\":\n",
    "    print(\"thank you\")\n",
    "            \n",
    "else:\n",
    "    print(\"enter correct input(yse or no)\")           \n",
    "                 \n",
    "                 \n",
    "                 \n",
    "           \n",
    "           \n",
    "           "
   ]
  },
  {
   "cell_type": "code",
   "execution_count": null,
   "id": "1ce6c998",
   "metadata": {},
   "outputs": [],
   "source": []
  }
 ],
 "metadata": {
  "kernelspec": {
   "display_name": "Python 3 (ipykernel)",
   "language": "python",
   "name": "python3"
  },
  "language_info": {
   "codemirror_mode": {
    "name": "ipython",
    "version": 3
   },
   "file_extension": ".py",
   "mimetype": "text/x-python",
   "name": "python",
   "nbconvert_exporter": "python",
   "pygments_lexer": "ipython3",
   "version": "3.11.5"
  }
 },
 "nbformat": 4,
 "nbformat_minor": 5
}
