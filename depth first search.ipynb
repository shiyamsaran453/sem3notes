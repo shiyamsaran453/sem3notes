{
 "cells": [
  {
   "cell_type": "code",
   "execution_count": 53,
   "id": "f2969c9e",
   "metadata": {},
   "outputs": [],
   "source": [
    "graph={'HOUSE':['ANNA NAGAR','CONVENT'],\n",
    "       'ANNA NAGAR':['NEW BUS STAND'],\n",
    "       'CONVENT':['OLD BUSTAND'],\n",
    "       'NEW BUS STAND':['BY PASS'],\n",
    "       'BY PASS':['VALLAM'],\n",
    "       'VALLAM':['PMIST'],\n",
    "       'OLD BUSTAND':['TMC'],\n",
    "       'TMC':['PILLAYARPATTI'],\n",
    "       'PILLAYARPATTI':['PMIST'],\n",
    "       'PMIST':['VALLAM']}\n",
    "       "
   ]
  },
  {
   "cell_type": "code",
   "execution_count": 57,
   "id": "6813a656",
   "metadata": {},
   "outputs": [],
   "source": [
    "from queue import LifoQueue\n",
    "stack=LifoQueue\n",
    "def route(graph,start,goal,visited):\n",
    "    stack=[start]\n",
    "    while stack:\n",
    "        node=stack.pop()\n",
    "        if node not in visited:\n",
    "            visited.append(node)\n",
    "            if node==goal:\n",
    "                print(visited)\n",
    "            for neighbors in graph[node]:\n",
    "                route(graph,neighbors,goal,visited)\n",
    "                "
   ]
  },
  {
   "cell_type": "code",
   "execution_count": 58,
   "id": "2913ebb5",
   "metadata": {},
   "outputs": [
    {
     "name": "stdout",
     "output_type": "stream",
     "text": [
      "['HOUSE', 'ANNA NAGAR', 'NEW BUS STAND', 'BY PASS', 'VALLAM', 'PMIST']\n"
     ]
    }
   ],
   "source": [
    "route(graph,'HOUSE','PMIST',[])"
   ]
  },
  {
   "cell_type": "code",
   "execution_count": null,
   "id": "99936f69",
   "metadata": {},
   "outputs": [],
   "source": [
    "    "
   ]
  }
 ],
 "metadata": {
  "kernelspec": {
   "display_name": "Python 3 (ipykernel)",
   "language": "python",
   "name": "python3"
  },
  "language_info": {
   "codemirror_mode": {
    "name": "ipython",
    "version": 3
   },
   "file_extension": ".py",
   "mimetype": "text/x-python",
   "name": "python",
   "nbconvert_exporter": "python",
   "pygments_lexer": "ipython3",
   "version": "3.11.5"
  }
 },
 "nbformat": 4,
 "nbformat_minor": 5
}
