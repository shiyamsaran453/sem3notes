{
 "cells": [
  {
   "cell_type": "code",
   "execution_count": 53,
   "id": "f2969c9e",
   "metadata": {},
   "outputs": [],
   "source": [
    "graph={'HOUSE':['ANNA NAGAR','CONVENT'],\n",
    "       'ANNA NAGAR':['NEW BUS STAND'],\n",
    "       'CONVENT':['OLD BUSTAND'],\n",
    "       'NEW BUS STAND':['BY PASS'],\n",
    "       'BY PASS':['VALLAM'],\n",
    "       'VALLAM':['PMIST'],\n",
    "       'OLD BUSTAND':['TMC'],\n",
    "       'TMC':['PILLAYARPATTI'],\n",
    "       'PILLAYARPATTI':['PMIST'],\n",
    "       'PMIST':['VALLAM']}\n",
    "       "
   ]
  },
  {
   "cell_type": "code",
   "execution_count": 54,
   "id": "b7fdb513",
   "metadata": {},
   "outputs": [],
   "source": [
    "from queue import LifoQueue\n",
    "stack=LifoQueue\n",
    "def route(graph,start,goal,visited):\n",
    "    stack=[start]\n",
    "    while stack:\n",
    "        node=stack.pop()\n",
    "        if node not in visited:\n",
    "            visited.append(node)\n",
    "            if node==goal:\n",
    "                print(visited)\n",
    "            for neighbors in graph[node]:\n",
    "                dfs(graph,neighbors,goal,visited)\n",
    "                "
   ]
  },
  {
   "cell_type": "code",
   "execution_count": 56,
   "id": "29319f04",
   "metadata": {},
   "outputs": [
    {
     "ename": "NameError",
     "evalue": "name 'dfs' is not defined",
     "output_type": "error",
     "traceback": [
      "\u001b[1;31m---------------------------------------------------------------------------\u001b[0m",
      "\u001b[1;31mNameError\u001b[0m                                 Traceback (most recent call last)",
      "Cell \u001b[1;32mIn[56], line 1\u001b[0m\n\u001b[1;32m----> 1\u001b[0m route(graph,\u001b[38;5;124m'\u001b[39m\u001b[38;5;124mHOUSE\u001b[39m\u001b[38;5;124m'\u001b[39m,\u001b[38;5;124m'\u001b[39m\u001b[38;5;124mPMIST\u001b[39m\u001b[38;5;124m'\u001b[39m,[])\n",
      "Cell \u001b[1;32mIn[54], line 12\u001b[0m, in \u001b[0;36mroute\u001b[1;34m(graph, start, goal, visited)\u001b[0m\n\u001b[0;32m     10\u001b[0m     \u001b[38;5;28mprint\u001b[39m(visited)\n\u001b[0;32m     11\u001b[0m \u001b[38;5;28;01mfor\u001b[39;00m neighbors \u001b[38;5;129;01min\u001b[39;00m graph[node]:\n\u001b[1;32m---> 12\u001b[0m     dfs(graph,neighbors,goal,visited)\n",
      "\u001b[1;31mNameError\u001b[0m: name 'dfs' is not defined"
     ]
    }
   ],
   "source": [
    "route(graph,'HOUSE','PMIST',[])"
   ]
  },
  {
   "cell_type": "code",
   "execution_count": null,
   "id": "8d7e30f9",
   "metadata": {},
   "outputs": [],
   "source": [
    "    "
   ]
  }
 ],
 "metadata": {
  "kernelspec": {
   "display_name": "Python 3 (ipykernel)",
   "language": "python",
   "name": "python3"
  },
  "language_info": {
   "codemirror_mode": {
    "name": "ipython",
    "version": 3
   },
   "file_extension": ".py",
   "mimetype": "text/x-python",
   "name": "python",
   "nbconvert_exporter": "python",
   "pygments_lexer": "ipython3",
   "version": "3.11.5"
  }
 },
 "nbformat": 4,
 "nbformat_minor": 5
}
