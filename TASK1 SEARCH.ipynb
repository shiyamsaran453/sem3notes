{
 "cells": [
  {
   "cell_type": "code",
   "execution_count": 44,
   "id": "f2969c9e",
   "metadata": {},
   "outputs": [],
   "source": [
    "graph={'HOUSE':['ANNA NAGAR','CONVENT'],\n",
    "       'ANNA NAGAR':['NEW BUS STAND'],\n",
    "       'CONVENT':['OLD BUSTAND'],\n",
    "       'NEW BUS STAND':['BY PASS'],\n",
    "       'BY PASS':['VALLAM'],\n",
    "       'VALLAM':['PMIST'],\n",
    "       'OLD BUSTAND':['TMC'],\n",
    "       'TMC':['PILLAYARPATTI'],\n",
    "       'PILLAYARPATTI':['PMIST'],\n",
    "       'PMIST':['VALLAM']}\n",
    "       "
   ]
  },
  {
   "cell_type": "code",
   "execution_count": 45,
   "id": "836afc3e",
   "metadata": {},
   "outputs": [],
   "source": [
    "from collections import deque\n",
    "def route(graph,start,goal):\n",
    "    visited=[]\n",
    "    queue=deque([start])\n",
    "    while queue:\n",
    "        node=queue.popleft()\n",
    "        if node not in visited:\n",
    "            visited.append(node)\n",
    "            print(\"i have visited:\",node)\n",
    "            neighbournode=graph[node]\n",
    "            if node==goal:\n",
    "                print(\"i have reached goal,the path i travelled is\",visited)\n",
    "            for neighbours in neighbournode:\n",
    "                queue.append(neighbours)\n",
    "                "
   ]
  },
  {
   "cell_type": "code",
   "execution_count": 47,
   "id": "11a46154",
   "metadata": {},
   "outputs": [
    {
     "name": "stdout",
     "output_type": "stream",
     "text": [
      "i have visited: HOUSE\n",
      "i have visited: ANNA NAGAR\n",
      "i have visited: CONVENT\n",
      "i have visited: NEW BUS STAND\n",
      "i have visited: OLD BUSTAND\n",
      "i have visited: BY PASS\n",
      "i have visited: TMC\n",
      "i have visited: VALLAM\n",
      "i have visited: PILLAYARPATTI\n",
      "i have visited: PMIST\n",
      "i have reached goal,the path i travelled is ['HOUSE', 'ANNA NAGAR', 'CONVENT', 'NEW BUS STAND', 'OLD BUSTAND', 'BY PASS', 'TMC', 'VALLAM', 'PILLAYARPATTI', 'PMIST']\n"
     ]
    }
   ],
   "source": [
    "route(graph,'HOUSE','PMIST')"
   ]
  },
  {
   "cell_type": "code",
   "execution_count": null,
   "id": "3bb581d8",
   "metadata": {},
   "outputs": [],
   "source": [
    "    "
   ]
  }
 ],
 "metadata": {
  "kernelspec": {
   "display_name": "Python 3 (ipykernel)",
   "language": "python",
   "name": "python3"
  },
  "language_info": {
   "codemirror_mode": {
    "name": "ipython",
    "version": 3
   },
   "file_extension": ".py",
   "mimetype": "text/x-python",
   "name": "python",
   "nbconvert_exporter": "python",
   "pygments_lexer": "ipython3",
   "version": "3.11.5"
  }
 },
 "nbformat": 4,
 "nbformat_minor": 5
}
