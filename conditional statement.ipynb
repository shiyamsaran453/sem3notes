{
 "cells": [
  {
   "cell_type": "code",
   "execution_count": 6,
   "id": "5ce6d3d5",
   "metadata": {},
   "outputs": [
    {
     "name": "stdout",
     "output_type": "stream",
     "text": [
      "enter your age\n",
      "18\n",
      "you are elligible for vote\n"
     ]
    }
   ],
   "source": [
    "a=int(input(\"enter your age\\n\"))\n",
    "\n",
    "if a>=18 :\n",
    "    print(\"you are elligible for vote\")\n",
    "else :\n",
    "    print(\"you are not elligible for vote\")"
   ]
  },
  {
   "cell_type": "code",
   "execution_count": 10,
   "id": "90b94078",
   "metadata": {},
   "outputs": [
    {
     "name": "stdout",
     "output_type": "stream",
     "text": [
      "enter days6\n",
      "your fine amount is 500\n"
     ]
    }
   ],
   "source": [
    "a=1\n",
    "b=3\n",
    "c=5\n",
    "d=int(input(\"enter days\"))\n",
    "if d==a :\n",
    "    print(\"your fine amount is 100\")\n",
    "elif d==b :\n",
    "    print(\"your fine amount is 200\")\n",
    "else :\n",
    "    print(\"your fine amount is 500\")"
   ]
  },
  {
   "cell_type": "code",
   "execution_count": null,
   "id": "840e13ac",
   "metadata": {},
   "outputs": [],
   "source": []
  }
 ],
 "metadata": {
  "kernelspec": {
   "display_name": "Python 3 (ipykernel)",
   "language": "python",
   "name": "python3"
  },
  "language_info": {
   "codemirror_mode": {
    "name": "ipython",
    "version": 3
   },
   "file_extension": ".py",
   "mimetype": "text/x-python",
   "name": "python",
   "nbconvert_exporter": "python",
   "pygments_lexer": "ipython3",
   "version": "3.10.12"
  }
 },
 "nbformat": 4,
 "nbformat_minor": 5
}
