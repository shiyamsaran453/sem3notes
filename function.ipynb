{
 "cells": [
  {
   "cell_type": "code",
   "execution_count": 13,
   "id": "19f78956",
   "metadata": {},
   "outputs": [],
   "source": [
    "def eligibility(age):\n",
    "    name=input(\"enter your name :\")\n",
    "\n",
    "    if age>=18:\n",
    "        print(\"your are elligible to vote\")\n",
    "    else :\n",
    "        print(\"you are not elligible to vote\")\n",
    "    \n",
    "\n",
    "    \n",
    "    "
   ]
  },
  {
   "cell_type": "code",
   "execution_count": 17,
   "id": "4ec25206",
   "metadata": {},
   "outputs": [
    {
     "name": "stdout",
     "output_type": "stream",
     "text": [
      "enter your name :fdgf\n",
      "your are elligible to vote\n"
     ]
    }
   ],
   "source": [
    "eligibility(18)\n"
   ]
  },
  {
   "cell_type": "code",
   "execution_count": null,
   "id": "0ed9fa33",
   "metadata": {},
   "outputs": [],
   "source": []
  }
 ],
 "metadata": {
  "kernelspec": {
   "display_name": "Python 3 (ipykernel)",
   "language": "python",
   "name": "python3"
  },
  "language_info": {
   "codemirror_mode": {
    "name": "ipython",
    "version": 3
   },
   "file_extension": ".py",
   "mimetype": "text/x-python",
   "name": "python",
   "nbconvert_exporter": "python",
   "pygments_lexer": "ipython3",
   "version": "3.10.12"
  }
 },
 "nbformat": 4,
 "nbformat_minor": 5
}
