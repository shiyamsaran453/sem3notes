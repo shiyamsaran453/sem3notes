{
 "cells": [
  {
   "cell_type": "code",
   "execution_count": 8,
   "id": "e846d9e6",
   "metadata": {},
   "outputs": [],
   "source": [
    "cse={830:\"shiyam saran\",846:\"arun mj\",894:\"vishnu\"}"
   ]
  },
  {
   "cell_type": "code",
   "execution_count": 9,
   "id": "f6432e4c",
   "metadata": {},
   "outputs": [
    {
     "name": "stdout",
     "output_type": "stream",
     "text": [
      "{830: 'shiyam saran', 846: 'arun mj', 894: 'vishnu'}\n"
     ]
    }
   ],
   "source": [
    "print(cse)"
   ]
  },
  {
   "cell_type": "code",
   "execution_count": 11,
   "id": "91bf6911",
   "metadata": {},
   "outputs": [
    {
     "data": {
      "text/plain": [
       "'shiyam saran'"
      ]
     },
     "execution_count": 11,
     "metadata": {},
     "output_type": "execute_result"
    }
   ],
   "source": [
    "cse[830]"
   ]
  },
  {
   "cell_type": "code",
   "execution_count": 12,
   "id": "69a44a00",
   "metadata": {},
   "outputs": [
    {
     "data": {
      "text/plain": [
       "dict_keys([830, 846, 894])"
      ]
     },
     "execution_count": 12,
     "metadata": {},
     "output_type": "execute_result"
    }
   ],
   "source": [
    "cse.keys()"
   ]
  },
  {
   "cell_type": "code",
   "execution_count": 14,
   "id": "795f4557",
   "metadata": {},
   "outputs": [
    {
     "data": {
      "text/plain": [
       "'arun mj'"
      ]
     },
     "execution_count": 14,
     "metadata": {},
     "output_type": "execute_result"
    }
   ],
   "source": [
    "cse[846]"
   ]
  },
  {
   "cell_type": "code",
   "execution_count": 17,
   "id": "86cfaf76",
   "metadata": {},
   "outputs": [
    {
     "data": {
      "text/plain": [
       "dict_values(['shiyam saran', 'arun mj', 'vishnu'])"
      ]
     },
     "execution_count": 17,
     "metadata": {},
     "output_type": "execute_result"
    }
   ],
   "source": [
    "cse.values()"
   ]
  },
  {
   "cell_type": "code",
   "execution_count": 19,
   "id": "595d7bb6",
   "metadata": {},
   "outputs": [],
   "source": [
    "cse[3]=\"guptha\""
   ]
  },
  {
   "cell_type": "code",
   "execution_count": 21,
   "id": "c65c77fe",
   "metadata": {},
   "outputs": [
    {
     "data": {
      "text/plain": [
       "{830: 'shiyam saran', 846: 'arun mj', 894: 'vishnu', 3: 'guptha'}"
      ]
     },
     "execution_count": 21,
     "metadata": {},
     "output_type": "execute_result"
    }
   ],
   "source": [
    "cse"
   ]
  },
  {
   "cell_type": "code",
   "execution_count": 28,
   "id": "eb76fbad",
   "metadata": {},
   "outputs": [],
   "source": [
    "cse[846]=\"arun\""
   ]
  },
  {
   "cell_type": "code",
   "execution_count": 59,
   "id": "22e919ef",
   "metadata": {},
   "outputs": [
    {
     "data": {
      "text/plain": [
       "{830: 'shiyam saran', 846: 'arun', 894: 'vishnu', 3: 'guptha', 2: 'arun'}"
      ]
     },
     "execution_count": 59,
     "metadata": {},
     "output_type": "execute_result"
    }
   ],
   "source": [
    "cse"
   ]
  },
  {
   "cell_type": "code",
   "execution_count": 62,
   "id": "557b0153",
   "metadata": {},
   "outputs": [
    {
     "data": {
      "text/plain": [
       "'vishnu'"
      ]
     },
     "execution_count": 62,
     "metadata": {},
     "output_type": "execute_result"
    }
   ],
   "source": [
    "cse.pop(894)"
   ]
  },
  {
   "cell_type": "code",
   "execution_count": 63,
   "id": "47d93fc3",
   "metadata": {},
   "outputs": [
    {
     "data": {
      "text/plain": [
       "{830: 'shiyam saran', 846: 'arun', 3: 'guptha', 2: 'arun'}"
      ]
     },
     "execution_count": 63,
     "metadata": {},
     "output_type": "execute_result"
    }
   ],
   "source": [
    "cse"
   ]
  },
  {
   "cell_type": "code",
   "execution_count": 64,
   "id": "538f2636",
   "metadata": {},
   "outputs": [],
   "source": [
    "pmist={\"cse\",\"eee\",\"mech\",\"ece\"}"
   ]
  },
  {
   "cell_type": "code",
   "execution_count": 65,
   "id": "5b72eaf5",
   "metadata": {},
   "outputs": [
    {
     "data": {
      "text/plain": [
       "{'cse', 'ece', 'eee', 'mech'}"
      ]
     },
     "execution_count": 65,
     "metadata": {},
     "output_type": "execute_result"
    }
   ],
   "source": [
    "pmist"
   ]
  },
  {
   "cell_type": "code",
   "execution_count": 72,
   "id": "45e3a484",
   "metadata": {},
   "outputs": [],
   "source": [
    "pmist.add(\"shiyam\")"
   ]
  },
  {
   "cell_type": "code",
   "execution_count": 73,
   "id": "1fa1c23c",
   "metadata": {},
   "outputs": [
    {
     "data": {
      "text/plain": [
       "{'cse', 'ece', 'eee', 'mech', 'sachin', 'saran', 'shiyam'}"
      ]
     },
     "execution_count": 73,
     "metadata": {},
     "output_type": "execute_result"
    }
   ],
   "source": [
    "pmist"
   ]
  },
  {
   "cell_type": "code",
   "execution_count": 74,
   "id": "e668a204",
   "metadata": {},
   "outputs": [],
   "source": [
    "pmist.update({\"saran\",\"sachin\"})"
   ]
  },
  {
   "cell_type": "code",
   "execution_count": 75,
   "id": "1ea60acf",
   "metadata": {},
   "outputs": [
    {
     "data": {
      "text/plain": [
       "{'cse', 'ece', 'eee', 'mech', 'sachin', 'saran', 'shiyam'}"
      ]
     },
     "execution_count": 75,
     "metadata": {},
     "output_type": "execute_result"
    }
   ],
   "source": [
    "pmist"
   ]
  },
  {
   "cell_type": "code",
   "execution_count": 91,
   "id": "6e858dfc",
   "metadata": {},
   "outputs": [
    {
     "name": "stdout",
     "output_type": "stream",
     "text": [
      "enter an pass453\n",
      "{'regno': 830, 'name': 'shiyam', 'age': 18}\n"
     ]
    }
   ],
   "source": [
    "a={\"regno\":830,\"name\":\"shiyam\",\"age\":18}\n",
    "password=453\n",
    "if password==int(input(\"enter an pass\")):\n",
    "    print(a)\n",
    "else: \n",
    "    print(\"invalid pass\")"
   ]
  },
  {
   "cell_type": "code",
   "execution_count": 94,
   "id": "f78eede2",
   "metadata": {},
   "outputs": [],
   "source": [
    "pmu=frozenset({\"saran\",\"sachin\"})"
   ]
  },
  {
   "cell_type": "code",
   "execution_count": 95,
   "id": "fb324062",
   "metadata": {},
   "outputs": [
    {
     "data": {
      "text/plain": [
       "frozenset"
      ]
     },
     "execution_count": 95,
     "metadata": {},
     "output_type": "execute_result"
    }
   ],
   "source": [
    "type(pmu)"
   ]
  },
  {
   "cell_type": "code",
   "execution_count": null,
   "id": "8f2c6294",
   "metadata": {},
   "outputs": [],
   "source": []
  }
 ],
 "metadata": {
  "kernelspec": {
   "display_name": "Python 3 (ipykernel)",
   "language": "python",
   "name": "python3"
  },
  "language_info": {
   "codemirror_mode": {
    "name": "ipython",
    "version": 3
   },
   "file_extension": ".py",
   "mimetype": "text/x-python",
   "name": "python",
   "nbconvert_exporter": "python",
   "pygments_lexer": "ipython3",
   "version": "3.10.12"
  }
 },
 "nbformat": 4,
 "nbformat_minor": 5
}
